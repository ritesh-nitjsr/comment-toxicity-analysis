{
 "cells": [
  {
   "cell_type": "markdown",
   "metadata": {},
   "source": [
    "The [Conversation AI team](https://conversationai.github.io/), a research initiative founded by [Jigsaw](https://jigsaw.google.com/) and Google (both a part of Alphabet) are working on tools to help improve online conversation. One area of focus is the study of negative online behaviors, like toxic comments (i.e. comments that are rude, disrespectful or otherwise likely to make someone leave a discussion). So far they’ve built a range of publicly available models served through the Perspective API, including toxicity. But the current models still make errors, and they don’t allow users to select which types of toxicity they’re interested in finding (e.g. some platforms may be fine with profanity, but not with other types of toxic content).\n",
    "\n",
    "Hence, the goal is to build a multi-headed model that’s capable of detecting different types of of toxicity like threats, obscenity, insults, identity-based hate etc."
   ]
  },
  {
   "cell_type": "markdown",
   "metadata": {},
   "source": [
    "## What data are we going to use ?"
   ]
  },
  {
   "cell_type": "markdown",
   "metadata": {},
   "source": [
    "We have a dataset of comments from [Wikipedia's Talk Pages](https://en.wikipedia.org/wiki/Help:Talk_pages). The comments have been labeled by human raters for toxic behavior. The types of toxicity are:\n",
    "    1. toxic\n",
    "    2. severe_toxic\n",
    "    3. obscene\n",
    "    4. threat\n",
    "    5. insult\n",
    "    6. identity_hate\n",
    "    \n",
    "Source - https://www.kaggle.com/c/jigsaw-toxic-comment-classification-challenge/overview\n",
    "\n",
    "**Disclaimer - The dataset contains text that may be considered profane, vulgar, or offensive.**"
   ]
  },
  {
   "cell_type": "code",
   "execution_count": 13,
   "metadata": {},
   "outputs": [
    {
     "data": {
      "text/html": [
       "\n",
       "        <script>\n",
       "            function code_toggle_13429305172365068419() {\n",
       "                $('div.cell.code_cell.rendered.selected').find('div.input').toggle();\n",
       "            }\n",
       "\n",
       "            \n",
       "        </script>\n",
       "\n",
       "        <a href=\"javascript:code_toggle_13429305172365068419()\">Toggle show/hide</a>\n",
       "    "
      ],
      "text/plain": [
       "<IPython.core.display.HTML object>"
      ]
     },
     "execution_count": 13,
     "metadata": {},
     "output_type": "execute_result"
    }
   ],
   "source": [
    "from IPython.display import HTML\n",
    "import random\n",
    "\n",
    "def hide_toggle(for_next=False):\n",
    "    this_cell = \"\"\"$('div.cell.code_cell.rendered.selected')\"\"\"\n",
    "    next_cell = this_cell + '.next()'\n",
    "\n",
    "    toggle_text = 'Toggle show/hide'  # text shown on toggle link\n",
    "    target_cell = this_cell  # target cell to control with toggle\n",
    "    js_hide_current = ''  # bit of JS to permanently hide code in current cell (only when toggling next cell)\n",
    "\n",
    "    if for_next:\n",
    "        target_cell = next_cell\n",
    "        toggle_text += ' next cell'\n",
    "        js_hide_current = this_cell + '.find(\"div.input\").hide();'\n",
    "\n",
    "    js_f_name = 'code_toggle_{}'.format(str(random.randint(1,2**64)))\n",
    "\n",
    "    html = \"\"\"\n",
    "        <script>\n",
    "            function {f_name}() {{\n",
    "                {cell_selector}.find('div.input').toggle();\n",
    "            }}\n",
    "\n",
    "            {js_hide_current}\n",
    "        </script>\n",
    "\n",
    "        <a href=\"javascript:{f_name}()\">{toggle_text}</a>\n",
    "    \"\"\".format(\n",
    "        f_name=js_f_name,\n",
    "        cell_selector=target_cell,\n",
    "        js_hide_current=js_hide_current, \n",
    "        toggle_text=toggle_text\n",
    "    )\n",
    "\n",
    "    return HTML(html)\n",
    "\n",
    "hide_toggle()"
   ]
  },
  {
   "cell_type": "code",
   "execution_count": 1,
   "metadata": {},
   "outputs": [],
   "source": [
    "from collections import Counter\n",
    "import re\n",
    "import string\n",
    "\n",
    "import matplotlib.pyplot as plt\n",
    "from nltk.corpus import stopwords\n",
    "import numpy as np\n",
    "import pandas as pd\n",
    "import seaborn as sns\n",
    "from sklearn.feature_extraction.text import TfidfVectorizer\n",
    "from sklearn.metrics import roc_auc_score\n",
    "from sklearn.model_selection import train_test_split\n",
    "from sklearn.naive_bayes import MultinomialNB\n",
    "from tqdm.notebook import tqdm\n",
    "\n",
    "tqdm.pandas()\n",
    "# import nltk\n",
    "# nltk.download(\"stopwords\")"
   ]
  },
  {
   "cell_type": "code",
   "execution_count": 2,
   "metadata": {},
   "outputs": [
    {
     "data": {
      "text/html": [
       "<div>\n",
       "<style scoped>\n",
       "    .dataframe tbody tr th:only-of-type {\n",
       "        vertical-align: middle;\n",
       "    }\n",
       "\n",
       "    .dataframe tbody tr th {\n",
       "        vertical-align: top;\n",
       "    }\n",
       "\n",
       "    .dataframe thead th {\n",
       "        text-align: right;\n",
       "    }\n",
       "</style>\n",
       "<table border=\"1\" class=\"dataframe\">\n",
       "  <thead>\n",
       "    <tr style=\"text-align: right;\">\n",
       "      <th></th>\n",
       "      <th>id</th>\n",
       "      <th>comment_text</th>\n",
       "      <th>toxic</th>\n",
       "      <th>severe_toxic</th>\n",
       "      <th>obscene</th>\n",
       "      <th>threat</th>\n",
       "      <th>insult</th>\n",
       "      <th>identity_hate</th>\n",
       "    </tr>\n",
       "  </thead>\n",
       "  <tbody>\n",
       "    <tr>\n",
       "      <th>0</th>\n",
       "      <td>0000997932d777bf</td>\n",
       "      <td>Explanation\\nWhy the edits made under my usern...</td>\n",
       "      <td>0</td>\n",
       "      <td>0</td>\n",
       "      <td>0</td>\n",
       "      <td>0</td>\n",
       "      <td>0</td>\n",
       "      <td>0</td>\n",
       "    </tr>\n",
       "    <tr>\n",
       "      <th>1</th>\n",
       "      <td>000103f0d9cfb60f</td>\n",
       "      <td>D'aww! He matches this background colour I'm s...</td>\n",
       "      <td>0</td>\n",
       "      <td>0</td>\n",
       "      <td>0</td>\n",
       "      <td>0</td>\n",
       "      <td>0</td>\n",
       "      <td>0</td>\n",
       "    </tr>\n",
       "    <tr>\n",
       "      <th>2</th>\n",
       "      <td>000113f07ec002fd</td>\n",
       "      <td>Hey man, I'm really not trying to edit war. It...</td>\n",
       "      <td>0</td>\n",
       "      <td>0</td>\n",
       "      <td>0</td>\n",
       "      <td>0</td>\n",
       "      <td>0</td>\n",
       "      <td>0</td>\n",
       "    </tr>\n",
       "    <tr>\n",
       "      <th>3</th>\n",
       "      <td>0001b41b1c6bb37e</td>\n",
       "      <td>\"\\nMore\\nI can't make any real suggestions on ...</td>\n",
       "      <td>0</td>\n",
       "      <td>0</td>\n",
       "      <td>0</td>\n",
       "      <td>0</td>\n",
       "      <td>0</td>\n",
       "      <td>0</td>\n",
       "    </tr>\n",
       "    <tr>\n",
       "      <th>4</th>\n",
       "      <td>0001d958c54c6e35</td>\n",
       "      <td>You, sir, are my hero. Any chance you remember...</td>\n",
       "      <td>0</td>\n",
       "      <td>0</td>\n",
       "      <td>0</td>\n",
       "      <td>0</td>\n",
       "      <td>0</td>\n",
       "      <td>0</td>\n",
       "    </tr>\n",
       "  </tbody>\n",
       "</table>\n",
       "</div>"
      ],
      "text/plain": [
       "                 id                                       comment_text  toxic  \\\n",
       "0  0000997932d777bf  Explanation\\nWhy the edits made under my usern...      0   \n",
       "1  000103f0d9cfb60f  D'aww! He matches this background colour I'm s...      0   \n",
       "2  000113f07ec002fd  Hey man, I'm really not trying to edit war. It...      0   \n",
       "3  0001b41b1c6bb37e  \"\\nMore\\nI can't make any real suggestions on ...      0   \n",
       "4  0001d958c54c6e35  You, sir, are my hero. Any chance you remember...      0   \n",
       "\n",
       "   severe_toxic  obscene  threat  insult  identity_hate  \n",
       "0             0        0       0       0              0  \n",
       "1             0        0       0       0              0  \n",
       "2             0        0       0       0              0  \n",
       "3             0        0       0       0              0  \n",
       "4             0        0       0       0              0  "
      ]
     },
     "metadata": {},
     "output_type": "display_data"
    }
   ],
   "source": [
    "data = pd.read_csv(\"data/train.csv\")\n",
    "display(data.head())"
   ]
  },
  {
   "cell_type": "markdown",
   "metadata": {},
   "source": [
    "### Let's understand the given data a bit more"
   ]
  },
  {
   "cell_type": "code",
   "execution_count": 3,
   "metadata": {},
   "outputs": [
    {
     "name": "stdout",
     "output_type": "stream",
     "text": [
      "Number of rows in the dataset : 159571\n",
      "Number of rows in the dataset with one or more NA values: 0\n"
     ]
    }
   ],
   "source": [
    "n = data.shape[0]\n",
    "print(\"Number of rows in the dataset : {}\".format(n))\n",
    "n_null = data[data.isna().any(axis = 1)].shape[0]\n",
    "print(\"Number of rows in the dataset with one or more NA values: {}\".format(n_null))"
   ]
  },
  {
   "cell_type": "markdown",
   "metadata": {},
   "source": [
    "##### What's the distribution of comments for each of the 6 categories?"
   ]
  },
  {
   "cell_type": "code",
   "execution_count": 4,
   "metadata": {},
   "outputs": [
    {
     "data": {
      "image/png": "[encoded data removed]",
      "text/plain": [
       "<Figure size 432x288 with 1 Axes>"
      ]
     },
     "metadata": {
      "needs_background": "light"
     },
     "output_type": "display_data"
    }
   ],
   "source": [
    "labels = [\"toxic\", \"severe_toxic\", \"obscene\", \"threat\", \"insult\", \"identity_hate\"]\n",
    "category_counts = data[labels].sum(axis = 0)\n",
    "category_counts_df = pd.DataFrame({\"Label\" : category_counts.index, \"Count\" : category_counts.values})\n",
    "ax = sns.barplot(data = category_counts_df, x = \"Label\", y = \"Count\")"
   ]
  },
  {
   "cell_type": "markdown",
   "metadata": {},
   "source": [
    "##### Do we have messages with more than one label marked ?"
   ]
  },
  {
   "cell_type": "code",
   "execution_count": 5,
   "metadata": {},
   "outputs": [
    {
     "data": {
      "text/plain": [
       "'Number of Comments which do not have any label marked : 143346 (89.83%)'"
      ]
     },
     "metadata": {},
     "output_type": "display_data"
    },
    {
     "data": {
      "image/png": "[encoded data removed]",
      "text/plain": [
       "<Figure size 432x288 with 1 Axes>"
      ]
     },
     "metadata": {
      "needs_background": "light"
     },
     "output_type": "display_data"
    }
   ],
   "source": [
    "counts = data[labels].sum(axis = 1)\n",
    "counts_df = pd.DataFrame({\"Comments with one or more label\" : counts.value_counts().index, \"Count\" : counts.value_counts().values})\n",
    "no_label_count = counts_df[counts_df[\"Comments with one or more label\"] == 0][\"Count\"].values[0]\n",
    "display(\"Number of Comments which do not have any label marked : {} ({}%)\".format(no_label_count, round(100 * no_label_count/data.shape[0], 2)))\n",
    "ax = sns.barplot(data = counts_df[counts_df[\"Comments with one or more label\"] > 0], x = \"Comments with one or more label\", y = \"Count\")\n",
    "plt.show()"
   ]
  },
  {
   "cell_type": "markdown",
   "metadata": {},
   "source": [
    "##### What about toxic and severe_toxic category ? They seem related."
   ]
  },
  {
   "cell_type": "code",
   "execution_count": 6,
   "metadata": {},
   "outputs": [
    {
     "data": {
      "text/html": [
       "<div>\n",
       "<style scoped>\n",
       "    .dataframe tbody tr th:only-of-type {\n",
       "        vertical-align: middle;\n",
       "    }\n",
       "\n",
       "    .dataframe tbody tr th {\n",
       "        vertical-align: top;\n",
       "    }\n",
       "\n",
       "    .dataframe thead th {\n",
       "        text-align: right;\n",
       "    }\n",
       "</style>\n",
       "<table border=\"1\" class=\"dataframe\">\n",
       "  <thead>\n",
       "    <tr style=\"text-align: right;\">\n",
       "      <th>severe_toxic</th>\n",
       "      <th>0</th>\n",
       "      <th>1</th>\n",
       "    </tr>\n",
       "    <tr>\n",
       "      <th>toxic</th>\n",
       "      <th></th>\n",
       "      <th></th>\n",
       "    </tr>\n",
       "  </thead>\n",
       "  <tbody>\n",
       "    <tr>\n",
       "      <th>0</th>\n",
       "      <td>144277</td>\n",
       "      <td>0</td>\n",
       "    </tr>\n",
       "    <tr>\n",
       "      <th>1</th>\n",
       "      <td>13699</td>\n",
       "      <td>1595</td>\n",
       "    </tr>\n",
       "  </tbody>\n",
       "</table>\n",
       "</div>"
      ],
      "text/plain": [
       "severe_toxic       0     1\n",
       "toxic                     \n",
       "0             144277     0\n",
       "1              13699  1595"
      ]
     },
     "metadata": {},
     "output_type": "display_data"
    },
    {
     "data": {
      "text/plain": [
       "'Comments which are marked as sever_toxic are also marked as toxic. Hence the comments with severe_toxic category is a subset of comments with toxic category.'"
      ]
     },
     "metadata": {},
     "output_type": "display_data"
    }
   ],
   "source": [
    "display(pd.crosstab(data[\"toxic\"], data[\"severe_toxic\"]))\n",
    "display(\"Comments which are marked as sever_toxic are also marked as toxic. Hence the comments with severe_toxic category \"\n",
    "        \"is a subset of comments with toxic category.\")"
   ]
  },
  {
   "cell_type": "markdown",
   "metadata": {},
   "source": [
    "##### How do the messages look like ?"
   ]
  },
  {
   "cell_type": "code",
   "execution_count": 7,
   "metadata": {},
   "outputs": [
    {
     "data": {
      "text/plain": [
       "'Examples of comments within toxic category - '"
      ]
     },
     "metadata": {},
     "output_type": "display_data"
    },
    {
     "data": {
      "text/plain": [
       "\"Bye! \\n\\nDon't look, come or think of comming back! Tosser.\""
      ]
     },
     "metadata": {},
     "output_type": "display_data"
    },
    {
     "data": {
      "text/plain": [
       "'Hi! I am back again!\\nLast warning!\\nStop undoing my edits or die!'"
      ]
     },
     "metadata": {},
     "output_type": "display_data"
    }
   ],
   "source": [
    "display(\"Examples of comments within toxic category - \")\n",
    "display(data[data[\"toxic\"] == 1][\"comment_text\"].values[2])\n",
    "display(data[data[\"toxic\"] == 1][\"comment_text\"].values[12])"
   ]
  },
  {
   "cell_type": "code",
   "execution_count": 8,
   "metadata": {},
   "outputs": [
    {
     "data": {
      "text/plain": [
       "'Examples of comments within threat category - '"
      ]
     },
     "metadata": {},
     "output_type": "display_data"
    },
    {
     "data": {
      "text/plain": [
       "'Whoever put a notices on my page. I will kill u'"
      ]
     },
     "metadata": {},
     "output_type": "display_data"
    },
    {
     "data": {
      "text/plain": [
       "\"WHAT'S WRONG WITH YOU?\\nGO KILL YOURSELF, YOU VILE CREATURE!!!!!!!!!!!\""
      ]
     },
     "metadata": {},
     "output_type": "display_data"
    }
   ],
   "source": [
    "display(\"Examples of comments within threat category - \")\n",
    "display(data[data[\"threat\"] == 1][\"comment_text\"].values[5])\n",
    "display(data[data[\"threat\"] == 1][\"comment_text\"].values[13])"
   ]
  },
  {
   "cell_type": "markdown",
   "metadata": {},
   "source": [
    "##### What are most commonly used words for each of the labels ? \n",
    "**This section can be skipped, as it contains words which might be vulgar, profane or offensive.**"
   ]
  },
  {
   "cell_type": "code",
   "execution_count": 9,
   "metadata": {},
   "outputs": [],
   "source": [
    "def preprocess_comment(comment, remove_stopwords = True, english_stopwords = None):\n",
    "    \"\"\"\n",
    "    This function would process the comment string. It mainly performs the following actions - \n",
    "    1. Remove all the punctuations from the string.\n",
    "    2. Transform the string to contain only lowercase alphabets. \n",
    "    3. Remove the stop-words from the string. (Optional)\n",
    "    \"\"\"\n",
    "    comment = re.sub(f\"[{string.punctuation}\\s+]\", \" \", comment) # Replace all punctuation marks and whitespace characters with a single space.\n",
    "    comment = comment.lower() # Converts the string to lowercase.\n",
    "    \n",
    "    if(remove_stopwords):\n",
    "        comment = \" \".join(filter(lambda x : x not in english_stopwords, comment.split())) # Removes stopwords from the string\n",
    "    return comment"
   ]
  },
  {
   "cell_type": "code",
   "execution_count": 10,
   "metadata": {},
   "outputs": [
    {
     "data": {
      "application/vnd.jupyter.widget-view+json": {
       "model_id": "eaf58c2a7c2b4dbf83c178a07480e79f",
       "version_major": 2,
       "version_minor": 0
      },
      "text/plain": [
       "HBox(children=(HTML(value=''), FloatProgress(value=0.0, max=159571.0), HTML(value='')))"
      ]
     },
     "metadata": {},
     "output_type": "display_data"
    },
    {
     "name": "stdout",
     "output_type": "stream",
     "text": [
      "\n"
     ]
    }
   ],
   "source": [
    "english_stopwords = stopwords.words(\"english\")\n",
    "data[\"processed_comment_text\"] = data[\"comment_text\"].progress_apply(lambda x : preprocess_comment(x, True, english_stopwords))"
   ]
  },
  {
   "cell_type": "code",
   "execution_count": 11,
   "metadata": {},
   "outputs": [
    {
     "data": {
      "image/png": "[encoded data removed]",
      "text/plain": [
       "<Figure size 1152x1152 with 6 Axes>"
      ]
     },
     "metadata": {
      "needs_background": "light"
     },
     "output_type": "display_data"
    }
   ],
   "source": [
    "fig, axes = plt.subplots(3,2, figsize = (16,16))\n",
    "for label, ax in zip(labels, axes.flatten()):\n",
    "    all_comments = data[data[label] == 1][\"processed_comment_text\"].values\n",
    "    df_word_counts = pd.DataFrame(sorted(dict(Counter(\" \".join(all_comments).split(\" \"))).items(), key = lambda x : x[1], reverse = True)[:10])\n",
    "    df_word_counts.columns = [\"Word\", \"Count\"]\n",
    "    sns.barplot(data=df_word_counts, x = \"Count\", y =\"Word\", ax = ax).set_title(\"Top 10 words used in {} comments\".format(label))\n",
    "plt.show()"
   ]
  },
  {
   "cell_type": "markdown",
   "metadata": {},
   "source": [
    "## How do we represent these comments as numbers (or vector of numbers) ?\n",
    "\n",
    "Most of the Machine Learning models do not accept text as input. Instead they expect numbers (or vector of numbers) as features. So the question arises - How do we convert comments (strings) into numbers ?"
   ]
  },
  {
   "cell_type": "markdown",
   "metadata": {},
   "source": [
    "### Bag-of-Words representation"
   ]
  },
  {
   "cell_type": "markdown",
   "metadata": {},
   "source": [
    "A bag-of-words (BoW) model is a way of extracting features from text, which can be then used by Machine Learning models. Is is quite simple and flexible.\n",
    "\n",
    "To create a BoW representation of a textual input, we mainly conisder the following two things - \n",
    "1. A vocabulary of known words - This can be all the unique words in the given corpus.\n",
    "2. A measure of presence of words - This can be the count of number of times a word is present in the given text.\n",
    "   \n",
    "   \n",
    "Eg - \n",
    "Let the corpus contain the following 3 sentences - \n",
    "    1. It was the best of times\n",
    "    2. It was the worst of times\n",
    "    3. It was the age of wisdom and the age of foolishness\n",
    "    \n",
    "Considering the above 3 sentences the vocabulary consist of following words (punctuation and case is ignored) -\n",
    "    * it\n",
    "    * was\n",
    "    * the\n",
    "    * best\n",
    "    * of\n",
    "    * times\n",
    "    * worst\n",
    "    * age\n",
    "    * wisdom\n",
    "    * and\n",
    "    * foolishness\n",
    "    \n",
    "Once the vocabulary is known, the BoW representation of the text is just the frequencty of each word in the vocabulary for the text. \n",
    "Hence, the BoW representation for the 1st sentence in the corpus is - "
   ]
  },
  {
   "cell_type": "markdown",
   "metadata": {},
   "source": [
    "**Sentence** | it | was | the | best | of | times | worst | age | wisdom | and | foolishness\n",
    ":--- | :---: | :---: | :---: | :---: | :---: | :---: | :---: | :---: | :---: | :---: | :---:\n",
    "**It was the best of times** | 1 | 1 | 1 | 1 | 1 | 1 | 0 | 0 | 0 | 0 | 0"
   ]
  },
  {
   "cell_type": "markdown",
   "metadata": {},
   "source": [
    "Similarly for other sentences in the corpus - "
   ]
  },
  {
   "cell_type": "markdown",
   "metadata": {},
   "source": [
    "**Sentence** | it | was | the | best | of | times | worst | age | wisdom | and | foolishness\n",
    ":--- | :---: | :---: | :---: | :---: | :---: | :---: | :---: | :---: | :---: | :---: | :---:\n",
    "**It was the best of times** | 1 | 1 | 1 | 1 | 1 | 1 | 0 | 0 | 0 | 0 | 0\n",
    "**It was the worst of times** | 1 | 1 | 1 | 0 | 1 | 1 | 1 | 0 | 0 | 0 | 0\n",
    "**It was the age of wisdom and the age of foolishness** | 1 | 1 | 2 | 0 | 2 | 0 | 0 | 2 | 1 | 1 | 1"
   ]
  },
  {
   "cell_type": "markdown",
   "metadata": {},
   "source": [
    "The above matrix of BoW representation can now be used to train any ML model. Sklearn has a flexible implemenation of BoW model, you can read more about it [here](https://scikit-learn.org/stable/modules/generated/sklearn.feature_extraction.text.CountVectorizer.html#sklearn.feature_extraction.text.CountVectorizer).\n",
    "\n",
    "To numerically represnt a text, we usually compute a score for each word to signify its importance in the text and corpus. In BoW, the score is simply the frequency of the word. \n",
    "\n",
    "A problem with BoW model is that the highly frequent words start to dominate in the document (in NLP we generally refere each text input as a document), but it may not contain as much information as the rarer words. One approach to fix this is by scaling the frequency of words by how often they appear in all the documents, hence penalizing the most common words like 'the', 'was', 'it' etc from the above example. This approach is called *Term Frequency - Inverse Document Frequency (TF-IDF)*"
   ]
  },
  {
   "cell_type": "markdown",
   "metadata": {},
   "source": [
    "### Term Frequency - Inverse Document Frequency (TF-IDF) representation\n",
    "\n",
    "TF-IDF is yet another way to numerically represent a text by looking at the words present in the text. TF-IDF value for a word in a text increases proportinally to the number of times a word appears in the text and is offset by the number of texts in the corpus that contain the word, this helps adjust for the words that appear more frequently in general.\n",
    "\n",
    "TF-IDF is a product of two statistics - \n",
    "\n",
    "**1. Term Frequency (TF)** - It is simply the count of a word in a given text. As the length of the text can varry, TF is generally divided by the number of words in the text. Therefore, the term-frequency for a term $t$ in a document $d$ can be calculated as - \n",
    "\n",
    "$$tf(t,d) = \\frac{f_{t,d}}{\\sum_{t' \\in d} f_{t',d}} $$\n",
    "\n",
    "Here, \n",
    "* $f_{t,d}$ is the count of term $t$ in document $d$\n",
    "\n",
    "The TF for the above example is - "
   ]
  },
  {
   "cell_type": "code",
   "execution_count": 14,
   "metadata": {},
   "outputs": [
    {
     "data": {
      "text/html": [
       "<div>\n",
       "<style scoped>\n",
       "    .dataframe tbody tr th:only-of-type {\n",
       "        vertical-align: middle;\n",
       "    }\n",
       "\n",
       "    .dataframe tbody tr th {\n",
       "        vertical-align: top;\n",
       "    }\n",
       "\n",
       "    .dataframe thead th {\n",
       "        text-align: right;\n",
       "    }\n",
       "</style>\n",
       "<table border=\"1\" class=\"dataframe\">\n",
       "  <thead>\n",
       "    <tr style=\"text-align: right;\">\n",
       "      <th></th>\n",
       "      <th>it</th>\n",
       "      <th>was</th>\n",
       "      <th>the</th>\n",
       "      <th>best</th>\n",
       "      <th>of</th>\n",
       "      <th>times</th>\n",
       "      <th>worst</th>\n",
       "      <th>age</th>\n",
       "      <th>wisdom</th>\n",
       "      <th>and</th>\n",
       "      <th>foolishness</th>\n",
       "    </tr>\n",
       "  </thead>\n",
       "  <tbody>\n",
       "    <tr>\n",
       "      <th>it was the best of times</th>\n",
       "      <td>0.166667</td>\n",
       "      <td>0.166667</td>\n",
       "      <td>0.166667</td>\n",
       "      <td>0.166667</td>\n",
       "      <td>0.166667</td>\n",
       "      <td>0.166667</td>\n",
       "      <td>0.000000</td>\n",
       "      <td>0.000000</td>\n",
       "      <td>0.000000</td>\n",
       "      <td>0.000000</td>\n",
       "      <td>0.000000</td>\n",
       "    </tr>\n",
       "    <tr>\n",
       "      <th>it was the worst of times</th>\n",
       "      <td>0.166667</td>\n",
       "      <td>0.166667</td>\n",
       "      <td>0.166667</td>\n",
       "      <td>0.000000</td>\n",
       "      <td>0.166667</td>\n",
       "      <td>0.166667</td>\n",
       "      <td>0.166667</td>\n",
       "      <td>0.000000</td>\n",
       "      <td>0.000000</td>\n",
       "      <td>0.000000</td>\n",
       "      <td>0.000000</td>\n",
       "    </tr>\n",
       "    <tr>\n",
       "      <th>it was the age of wisdom and the age of foolishness</th>\n",
       "      <td>0.090909</td>\n",
       "      <td>0.090909</td>\n",
       "      <td>0.181818</td>\n",
       "      <td>0.000000</td>\n",
       "      <td>0.181818</td>\n",
       "      <td>0.000000</td>\n",
       "      <td>0.000000</td>\n",
       "      <td>0.181818</td>\n",
       "      <td>0.090909</td>\n",
       "      <td>0.090909</td>\n",
       "      <td>0.090909</td>\n",
       "    </tr>\n",
       "  </tbody>\n",
       "</table>\n",
       "</div>"
      ],
      "text/plain": [
       "                                                          it       was  \\\n",
       "it was the best of times                            0.166667  0.166667   \n",
       "it was the worst of times                           0.166667  0.166667   \n",
       "it was the age of wisdom and the age of foolish...  0.090909  0.090909   \n",
       "\n",
       "                                                         the      best  \\\n",
       "it was the best of times                            0.166667  0.166667   \n",
       "it was the worst of times                           0.166667  0.000000   \n",
       "it was the age of wisdom and the age of foolish...  0.181818  0.000000   \n",
       "\n",
       "                                                          of     times  \\\n",
       "it was the best of times                            0.166667  0.166667   \n",
       "it was the worst of times                           0.166667  0.166667   \n",
       "it was the age of wisdom and the age of foolish...  0.181818  0.000000   \n",
       "\n",
       "                                                       worst       age  \\\n",
       "it was the best of times                            0.000000  0.000000   \n",
       "it was the worst of times                           0.166667  0.000000   \n",
       "it was the age of wisdom and the age of foolish...  0.000000  0.181818   \n",
       "\n",
       "                                                      wisdom       and  \\\n",
       "it was the best of times                            0.000000  0.000000   \n",
       "it was the worst of times                           0.000000  0.000000   \n",
       "it was the age of wisdom and the age of foolish...  0.090909  0.090909   \n",
       "\n",
       "                                                    foolishness  \n",
       "it was the best of times                               0.000000  \n",
       "it was the worst of times                              0.000000  \n",
       "it was the age of wisdom and the age of foolish...     0.090909  "
      ]
     },
     "metadata": {},
     "output_type": "display_data"
    },
    {
     "data": {
      "text/html": [
       "\n",
       "        <script>\n",
       "            function code_toggle_1441748624344340428() {\n",
       "                $('div.cell.code_cell.rendered.selected').find('div.input').toggle();\n",
       "            }\n",
       "\n",
       "            \n",
       "        </script>\n",
       "\n",
       "        <a href=\"javascript:code_toggle_1441748624344340428()\">Toggle show/hide</a>\n",
       "    "
      ],
      "text/plain": [
       "<IPython.core.display.HTML object>"
      ]
     },
     "execution_count": 14,
     "metadata": {},
     "output_type": "execute_result"
    }
   ],
   "source": [
    "def get_tf(documents):\n",
    "    vocabulary = []\n",
    "    for d in documents:\n",
    "        vocabulary.extend(d.split())\n",
    "    vocabulary = list(set(vocabulary))\n",
    "    tf = {}\n",
    "    for d in documents:\n",
    "        tf[d] = {}\n",
    "        for w in vocabulary:\n",
    "            tf[d][w] = d.split().count(w) / len(d.split())\n",
    "    \n",
    "    return pd.DataFrame(tf).T\n",
    "\n",
    "corpus = [ \n",
    "    \"it was the best of times\",\n",
    "    \"it was the worst of times\",\n",
    "    \"it was the age of wisdom and the age of foolishness\"\n",
    "]\n",
    "\n",
    "tf = get_tf(corpus)\n",
    "tf = tf[[\"it\", \"was\", \"the\", \"best\", \"of\", \"times\", \"worst\", \"age\", \"wisdom\", \"and\", \"foolishness\"]]\n",
    "display(tf)\n",
    "\n",
    "hide_toggle()"
   ]
  },
  {
   "cell_type": "markdown",
   "metadata": {},
   "source": [
    "**2. Inverse Document Frequency** - It is the measure of how much information the word provides, i.e., if it is a common or rare across all documents. Mathematically, it is the logarithmically scaled inverse fraction of the documents that contain the word. For rare words, IDF value naturally becomes higher and for common words it becomes smaller. The log factor hels dampen the IDF value for large corpuses. The Inverse Document Frequency of a term $t$ in a cospus set $D$ can be caluclated as - \n",
    "$$idf(t,D) = log(\\frac{N}{|{d \\in D : t \\in d}|})$$\n",
    "\n",
    "Here,\n",
    "* $N$ is the total number of documents in the corpus.\n",
    "* $|{d \\in D : t \\in d}|$ is the number of documents where word $t$ occurs.\n",
    "\n",
    "The IDF for the above mentioned example is - "
   ]
  },
  {
   "cell_type": "code",
   "execution_count": 15,
   "metadata": {},
   "outputs": [
    {
     "data": {
      "text/html": [
       "<div>\n",
       "<style scoped>\n",
       "    .dataframe tbody tr th:only-of-type {\n",
       "        vertical-align: middle;\n",
       "    }\n",
       "\n",
       "    .dataframe tbody tr th {\n",
       "        vertical-align: top;\n",
       "    }\n",
       "\n",
       "    .dataframe thead th {\n",
       "        text-align: right;\n",
       "    }\n",
       "</style>\n",
       "<table border=\"1\" class=\"dataframe\">\n",
       "  <thead>\n",
       "    <tr style=\"text-align: right;\">\n",
       "      <th></th>\n",
       "      <th>it</th>\n",
       "      <th>was</th>\n",
       "      <th>the</th>\n",
       "      <th>best</th>\n",
       "      <th>of</th>\n",
       "      <th>times</th>\n",
       "      <th>worst</th>\n",
       "      <th>age</th>\n",
       "      <th>wisdom</th>\n",
       "      <th>and</th>\n",
       "      <th>foolishness</th>\n",
       "    </tr>\n",
       "  </thead>\n",
       "  <tbody>\n",
       "    <tr>\n",
       "      <th>it was the best of times</th>\n",
       "      <td>0.0</td>\n",
       "      <td>0.0</td>\n",
       "      <td>0.0</td>\n",
       "      <td>1.098612</td>\n",
       "      <td>0.0</td>\n",
       "      <td>0.405465</td>\n",
       "      <td>0.000000</td>\n",
       "      <td>0.000000</td>\n",
       "      <td>0.000000</td>\n",
       "      <td>0.000000</td>\n",
       "      <td>0.000000</td>\n",
       "    </tr>\n",
       "    <tr>\n",
       "      <th>it was the worst of times</th>\n",
       "      <td>0.0</td>\n",
       "      <td>0.0</td>\n",
       "      <td>0.0</td>\n",
       "      <td>0.000000</td>\n",
       "      <td>0.0</td>\n",
       "      <td>0.405465</td>\n",
       "      <td>1.098612</td>\n",
       "      <td>0.000000</td>\n",
       "      <td>0.000000</td>\n",
       "      <td>0.000000</td>\n",
       "      <td>0.000000</td>\n",
       "    </tr>\n",
       "    <tr>\n",
       "      <th>it was the age of wisdom and the age of foolishness</th>\n",
       "      <td>0.0</td>\n",
       "      <td>0.0</td>\n",
       "      <td>0.0</td>\n",
       "      <td>0.000000</td>\n",
       "      <td>0.0</td>\n",
       "      <td>0.000000</td>\n",
       "      <td>0.000000</td>\n",
       "      <td>1.098612</td>\n",
       "      <td>1.098612</td>\n",
       "      <td>1.098612</td>\n",
       "      <td>1.098612</td>\n",
       "    </tr>\n",
       "  </tbody>\n",
       "</table>\n",
       "</div>"
      ],
      "text/plain": [
       "                                                     it  was  the      best  \\\n",
       "it was the best of times                            0.0  0.0  0.0  1.098612   \n",
       "it was the worst of times                           0.0  0.0  0.0  0.000000   \n",
       "it was the age of wisdom and the age of foolish...  0.0  0.0  0.0  0.000000   \n",
       "\n",
       "                                                     of     times     worst  \\\n",
       "it was the best of times                            0.0  0.405465  0.000000   \n",
       "it was the worst of times                           0.0  0.405465  1.098612   \n",
       "it was the age of wisdom and the age of foolish...  0.0  0.000000  0.000000   \n",
       "\n",
       "                                                         age    wisdom  \\\n",
       "it was the best of times                            0.000000  0.000000   \n",
       "it was the worst of times                           0.000000  0.000000   \n",
       "it was the age of wisdom and the age of foolish...  1.098612  1.098612   \n",
       "\n",
       "                                                         and  foolishness  \n",
       "it was the best of times                            0.000000     0.000000  \n",
       "it was the worst of times                           0.000000     0.000000  \n",
       "it was the age of wisdom and the age of foolish...  1.098612     1.098612  "
      ]
     },
     "metadata": {},
     "output_type": "display_data"
    },
    {
     "data": {
      "text/html": [
       "\n",
       "        <script>\n",
       "            function code_toggle_12237560616421847366() {\n",
       "                $('div.cell.code_cell.rendered.selected').find('div.input').toggle();\n",
       "            }\n",
       "\n",
       "            \n",
       "        </script>\n",
       "\n",
       "        <a href=\"javascript:code_toggle_12237560616421847366()\">Toggle show/hide</a>\n",
       "    "
      ],
      "text/plain": [
       "<IPython.core.display.HTML object>"
      ]
     },
     "execution_count": 15,
     "metadata": {},
     "output_type": "execute_result"
    }
   ],
   "source": [
    "def get_idf(documents):\n",
    "    vocabulary = []\n",
    "    for d in documents:\n",
    "        vocabulary.extend(d.split())\n",
    "    vocabulary = list(set(vocabulary))\n",
    "    \n",
    "    df = {}\n",
    "    for w in vocabulary:\n",
    "        df[w] = 0\n",
    "        for d in documents:\n",
    "            if w in d:\n",
    "                df[w] = df[w] + 1\n",
    "    idf_words = {}\n",
    "    for k,v in df.items():\n",
    "        idf_words[k] = np.log(len(documents)/v)\n",
    "    \n",
    "    idf = {}\n",
    "    for d in documents:\n",
    "        idf[d] = {}\n",
    "        for w in vocabulary:\n",
    "            if w in d:\n",
    "                idf[d][w] = idf_words[w]\n",
    "            else:\n",
    "                idf[d][w] = 0\n",
    "    return pd.DataFrame(idf).T\n",
    "\n",
    "corpus = [ \n",
    "    \"it was the best of times\",\n",
    "    \"it was the worst of times\",\n",
    "    \"it was the age of wisdom and the age of foolishness\"\n",
    "]\n",
    "\n",
    "idf = get_idf(corpus)\n",
    "idf = idf[[\"it\", \"was\", \"the\", \"best\", \"of\", \"times\", \"worst\", \"age\", \"wisdom\", \"and\", \"foolishness\"]]\n",
    "display(idf)\n",
    "\n",
    "hide_toggle()"
   ]
  },
  {
   "cell_type": "markdown",
   "metadata": {},
   "source": [
    "Finally TF-IDF for a term $t$ in a document $d$ within a corpus set $D$ can be calculated as - \n",
    "\n",
    "$$tfidf(t,d,D) = tf(t,d).idf(t,D)$$\n",
    "\n",
    "TF-IDF calculated for the above example is - "
   ]
  },
  {
   "cell_type": "code",
   "execution_count": 16,
   "metadata": {},
   "outputs": [
    {
     "data": {
      "text/html": [
       "<div>\n",
       "<style scoped>\n",
       "    .dataframe tbody tr th:only-of-type {\n",
       "        vertical-align: middle;\n",
       "    }\n",
       "\n",
       "    .dataframe tbody tr th {\n",
       "        vertical-align: top;\n",
       "    }\n",
       "\n",
       "    .dataframe thead th {\n",
       "        text-align: right;\n",
       "    }\n",
       "</style>\n",
       "<table border=\"1\" class=\"dataframe\">\n",
       "  <thead>\n",
       "    <tr style=\"text-align: right;\">\n",
       "      <th></th>\n",
       "      <th>it</th>\n",
       "      <th>was</th>\n",
       "      <th>the</th>\n",
       "      <th>best</th>\n",
       "      <th>of</th>\n",
       "      <th>times</th>\n",
       "      <th>worst</th>\n",
       "      <th>age</th>\n",
       "      <th>wisdom</th>\n",
       "      <th>and</th>\n",
       "      <th>foolishness</th>\n",
       "    </tr>\n",
       "  </thead>\n",
       "  <tbody>\n",
       "    <tr>\n",
       "      <th>it was the best of times</th>\n",
       "      <td>0.0</td>\n",
       "      <td>0.0</td>\n",
       "      <td>0.0</td>\n",
       "      <td>0.183102</td>\n",
       "      <td>0.0</td>\n",
       "      <td>0.067578</td>\n",
       "      <td>0.000000</td>\n",
       "      <td>0.000000</td>\n",
       "      <td>0.000000</td>\n",
       "      <td>0.000000</td>\n",
       "      <td>0.000000</td>\n",
       "    </tr>\n",
       "    <tr>\n",
       "      <th>it was the worst of times</th>\n",
       "      <td>0.0</td>\n",
       "      <td>0.0</td>\n",
       "      <td>0.0</td>\n",
       "      <td>0.000000</td>\n",
       "      <td>0.0</td>\n",
       "      <td>0.067578</td>\n",
       "      <td>0.183102</td>\n",
       "      <td>0.000000</td>\n",
       "      <td>0.000000</td>\n",
       "      <td>0.000000</td>\n",
       "      <td>0.000000</td>\n",
       "    </tr>\n",
       "    <tr>\n",
       "      <th>it was the age of wisdom and the age of foolishness</th>\n",
       "      <td>0.0</td>\n",
       "      <td>0.0</td>\n",
       "      <td>0.0</td>\n",
       "      <td>0.000000</td>\n",
       "      <td>0.0</td>\n",
       "      <td>0.000000</td>\n",
       "      <td>0.000000</td>\n",
       "      <td>0.199748</td>\n",
       "      <td>0.099874</td>\n",
       "      <td>0.099874</td>\n",
       "      <td>0.099874</td>\n",
       "    </tr>\n",
       "  </tbody>\n",
       "</table>\n",
       "</div>"
      ],
      "text/plain": [
       "                                                     it  was  the      best  \\\n",
       "it was the best of times                            0.0  0.0  0.0  0.183102   \n",
       "it was the worst of times                           0.0  0.0  0.0  0.000000   \n",
       "it was the age of wisdom and the age of foolish...  0.0  0.0  0.0  0.000000   \n",
       "\n",
       "                                                     of     times     worst  \\\n",
       "it was the best of times                            0.0  0.067578  0.000000   \n",
       "it was the worst of times                           0.0  0.067578  0.183102   \n",
       "it was the age of wisdom and the age of foolish...  0.0  0.000000  0.000000   \n",
       "\n",
       "                                                         age    wisdom  \\\n",
       "it was the best of times                            0.000000  0.000000   \n",
       "it was the worst of times                           0.000000  0.000000   \n",
       "it was the age of wisdom and the age of foolish...  0.199748  0.099874   \n",
       "\n",
       "                                                         and  foolishness  \n",
       "it was the best of times                            0.000000     0.000000  \n",
       "it was the worst of times                           0.000000     0.000000  \n",
       "it was the age of wisdom and the age of foolish...  0.099874     0.099874  "
      ]
     },
     "metadata": {},
     "output_type": "display_data"
    },
    {
     "data": {
      "text/html": [
       "\n",
       "        <script>\n",
       "            function code_toggle_13975284914993660351() {\n",
       "                $('div.cell.code_cell.rendered.selected').find('div.input').toggle();\n",
       "            }\n",
       "\n",
       "            \n",
       "        </script>\n",
       "\n",
       "        <a href=\"javascript:code_toggle_13975284914993660351()\">Toggle show/hide</a>\n",
       "    "
      ],
      "text/plain": [
       "<IPython.core.display.HTML object>"
      ]
     },
     "execution_count": 16,
     "metadata": {},
     "output_type": "execute_result"
    }
   ],
   "source": [
    "corpus = [ \n",
    "    \"it was the best of times\",\n",
    "    \"it was the worst of times\",\n",
    "    \"it was the age of wisdom and the age of foolishness\"\n",
    "]\n",
    "\n",
    "tf = get_tf(corpus)\n",
    "tf = tf[[\"it\", \"was\", \"the\", \"best\", \"of\", \"times\", \"worst\", \"age\", \"wisdom\", \"and\", \"foolishness\"]]\n",
    "\n",
    "idf = get_idf(corpus)\n",
    "idf = idf[[\"it\", \"was\", \"the\", \"best\", \"of\", \"times\", \"worst\", \"age\", \"wisdom\", \"and\", \"foolishness\"]]\n",
    "\n",
    "display(tf*idf)\n",
    "\n",
    "hide_toggle()"
   ]
  },
  {
   "cell_type": "markdown",
   "metadata": {},
   "source": [
    "Sklearn has a flexible implemenation of TF-IDF, you can read more about it [here](https://scikit-learn.org/stable/modules/generated/sklearn.feature_extraction.text.TfidfVectorizer.html)."
   ]
  },
  {
   "cell_type": "markdown",
   "metadata": {},
   "source": [
    "## How should we finally train the model ?"
   ]
  },
  {
   "cell_type": "markdown",
   "metadata": {},
   "source": [
    "Going to initial problem at hand again - we need to identify the type of toxicity (toxic, obscene, threat etc) for a comment. A comment can have more than one type of toxicity. If can also have none.\n",
    "\n",
    "If we look at each of the 6 toxicity labels individually, then the problem can be restructured as a simple binary classification problem for each label. That is what we'll be doing - we'll train 6 differnet classifiers for the 6 labels (toxic, severe_toxic, obscene, threat, insult and identity_hate) given."
   ]
  },
  {
   "cell_type": "markdown",
   "metadata": {},
   "source": [
    "### Lets begin by training the model only to identify if a comment belong to 'obscene' category or not\n",
    "### Preparing the data - We will be using TF-IDF repesentation of the processed comments and split the data into train and test sets."
   ]
  },
  {
   "cell_type": "code",
   "execution_count": 17,
   "metadata": {},
   "outputs": [],
   "source": [
    "vectorizer = TfidfVectorizer()\n",
    "tfidf_comments = vectorizer.fit_transform(data[\"processed_comment_text\"])"
   ]
  },
  {
   "cell_type": "code",
   "execution_count": 18,
   "metadata": {},
   "outputs": [
    {
     "data": {
      "text/plain": [
       "(159571, 185943)"
      ]
     },
     "execution_count": 18,
     "metadata": {},
     "output_type": "execute_result"
    }
   ],
   "source": [
    "tfidf_comments.shape"
   ]
  },
  {
   "cell_type": "code",
   "execution_count": 19,
   "metadata": {},
   "outputs": [
    {
     "data": {
      "text/plain": [
       "<159571x185943 sparse matrix of type '<class 'numpy.float64'>'\n",
       "\twith 4487267 stored elements in Compressed Sparse Row format>"
      ]
     },
     "metadata": {},
     "output_type": "display_data"
    }
   ],
   "source": [
    "display(tfidf_comments) \n",
    "# TF-IDF return a sparse matrix represenation as it gives huge boost in terms of storage and computaion. "
   ]
  },
  {
   "cell_type": "code",
   "execution_count": 20,
   "metadata": {},
   "outputs": [
    {
     "data": {
      "text/plain": [
       "0    0.947052\n",
       "1    0.052948\n",
       "Name: obscene, dtype: float64"
      ]
     },
     "execution_count": 20,
     "metadata": {},
     "output_type": "execute_result"
    }
   ],
   "source": [
    "data[\"obscene\"].value_counts(normalize = True)"
   ]
  },
  {
   "cell_type": "code",
   "execution_count": 30,
   "metadata": {},
   "outputs": [
    {
     "name": "stdout",
     "output_type": "stream",
     "text": [
      "(127656, 185943)\n",
      "(127656,)\n",
      "(31915, 185943)\n",
      "(31915,)\n"
     ]
    }
   ],
   "source": [
    "# To train the model, the tf-idf represenation becomes the feature matrix and target column is label we're currently training for.\n",
    "# Since there is an imbalance in the target label, we'll use straified approach to split the data into train and test sets.\n",
    "train_x, test_x, train_y, test_y = train_test_split(tfidf_comments, data[\"obscene\"], test_size = 0.2, stratify = data[\"obscene\"], random_state = 20)\n",
    "\n",
    "print(train_x.shape)\n",
    "print(train_y.shape)\n",
    "print(test_x.shape)\n",
    "print(test_y.shape)"
   ]
  },
  {
   "cell_type": "markdown",
   "metadata": {},
   "source": [
    "### Using Naive-Bayes as our Classifier"
   ]
  },
  {
   "cell_type": "markdown",
   "metadata": {},
   "source": [
    "Naive-Bayes is classification technique based on applying Bayes' Theorem with strong independance assumptions betwen features. Naive-Bayes is a conditional probabilstic model, that gives a probability that a data point with a given set of features belong to a specific class. More formally, given a data point represented as a vector $x = (x_1, x_2, ..., x_n)$ (where the $n$ features are independant), Naive-Bayes assigns a probabilities $p(C_k|x)$ for each of the $K$ classes.\n",
    "\n",
    "Using Bayes' Theorem, the above probability value can be written as - \n",
    "$$p(C_k|x) = \\frac{p(C_k)p(x|C_k)}{p(x)}$$\n",
    "\n",
    "Here,\n",
    "* $p(C_k|x)$ is the posterior probability that the data point represented as $x$ belongs to class $C_k$\n",
    "* $p(C_k)$ is the prior probability for class $C_k$\n",
    "* $p(x|C_k)$ is the likelihood which is probility of a data point $x$ given a class $C_k$\n",
    "* $p(x)$ is the prior probability for data point $x$\n",
    "\n",
    "The major focus is only on the numerator of the above fraction, as the denominator does depend on the class label and is fixed for a given data point. \n",
    "\n",
    "Assuming *conditional independence* among all features in $x$ and using chain rule, $p(x|C_k)$ can be written as - \n",
    "$$p(x|C_k) = p(x_1|C_k)p(x_2|C_k)...p(x_n|C_k)$$\n",
    "\n",
    "Therefore,\n",
    "$$p(C_k|x) \\propto p(C_k)p(x_1|C_k)p(x_2|C_k)...p(x_n|C_k)$$\n",
    "\n",
    "In text classification, $x$ might be a BoW representation of the document. For example, if below is the BoW representation of a sentence - "
   ]
  },
  {
   "cell_type": "markdown",
   "metadata": {},
   "source": [
    "**Sentence** | hate | you | love\n",
    ":--- | :---: | :---: | :---:\n",
    "**Hate You** | 1 | 1 | 0"
   ]
  },
  {
   "cell_type": "markdown",
   "metadata": {},
   "source": [
    "Then the probability that this sentencce belongs to obscene category is - \n",
    "$$p(obscene=1 | hate=1,you=1,love=0) \\propto p(obscene = 1)p(hate=1|obscene=1)p(you=1|obscene=1)p(love=1|obscene=1)$$\n",
    "\n",
    "Similarly, the probability that the obove sentence does not belong to obscene category is - \n",
    "$$p(obscene=0 | hate=1,you=1,love=0) \\propto p(obscene = 0)p(hate=1|obscene=0)p(you=1|obscene=0)p(love=1|obscene=0)$$\n",
    "\n",
    "The sentence can be assigned the class(0 or 1) which has the maximum probability among the above two. "
   ]
  },
  {
   "cell_type": "code",
   "execution_count": 31,
   "metadata": {},
   "outputs": [
    {
     "data": {
      "text/plain": [
       "MultinomialNB()"
      ]
     },
     "execution_count": 31,
     "metadata": {},
     "output_type": "execute_result"
    }
   ],
   "source": [
    "nb_model = MultinomialNB() # A variant of Naive Bayes which assumes the feature distribution to be multinomial. \n",
    "nb_model.fit(train_x, train_y) # Fits the model on train data"
   ]
  },
  {
   "cell_type": "markdown",
   "metadata": {},
   "source": [
    "### Evaluating the model"
   ]
  },
  {
   "cell_type": "markdown",
   "metadata": {},
   "source": [
    "#### Using AUC-ROC curve\n",
    "AUC(Area under the curve)-ROC(Receiver Operating Characteristics) is a perfomance meassurement metric for classification problem. ROC is the probability curve between TPR (True Postive Rate) and FPR (False Positive Rate) at different thresholds. Area under the ROC curve gives the AUC-ROC score. This score measures the separability of classes, or in other words it tells how much the model is capable of distingusihing between the classes. Higher the AUC-ROC score, better the model is.\n",
    "\n",
    "\n",
    "![ROC Curve](https://miro.medium.com/max/451/1*pk05QGzoWhCgRiiFbz-oKQ.png \"AUC-ROC\")\n",
    "\n",
    "\n",
    "$$TPR = \\frac{TP}{TP + FN}$$\n",
    "\n",
    "$$FPR = \\frac{FP}{TN + FP}$$"
   ]
  },
  {
   "cell_type": "code",
   "execution_count": 32,
   "metadata": {},
   "outputs": [
    {
     "data": {
      "text/plain": [
       "0.8702047170873283"
      ]
     },
     "execution_count": 32,
     "metadata": {},
     "output_type": "execute_result"
    }
   ],
   "source": [
    "roc_auc_score(test_y, nb_model.predict_proba(test_x)[:,1]) "
   ]
  },
  {
   "cell_type": "markdown",
   "metadata": {},
   "source": [
    "### Training for all 6 labels separately"
   ]
  },
  {
   "cell_type": "code",
   "execution_count": 33,
   "metadata": {},
   "outputs": [
    {
     "name": "stdout",
     "output_type": "stream",
     "text": [
      "Training for : toxic\n",
      "ROC-AUC score on test set : 0.88\n",
      "Training for : severe_toxic\n",
      "ROC-AUC score on test set : 0.88\n",
      "Training for : obscene\n",
      "ROC-AUC score on test set : 0.87\n",
      "Training for : threat\n",
      "ROC-AUC score on test set : 0.74\n",
      "Training for : insult\n",
      "ROC-AUC score on test set : 0.87\n",
      "Training for : identity_hate\n",
      "ROC-AUC score on test set : 0.81\n",
      "\n",
      "\n",
      " Average AUC-ROC Score across all labels : 0.84\n"
     ]
    }
   ],
   "source": [
    "labels = [\"toxic\", \"severe_toxic\", \"obscene\", \"threat\", \"insult\", \"identity_hate\"]\n",
    "all_scores = []\n",
    "for label in labels:\n",
    "    print(\"Training for : {}\".format(label))\n",
    "    train_x, test_x, train_y, test_y = train_test_split(tfidf_comments, data[label], test_size = 0.2, stratify = data[label], random_state = 20)\n",
    "    nb_model = MultinomialNB()\n",
    "    nb_model.fit(train_x, train_y)\n",
    "    score = roc_auc_score(test_y, nb_model.predict_proba(test_x)[:,1]) \n",
    "    print(\"ROC-AUC score on test set : {}\".format(round(score, 2)))\n",
    "    all_scores.append(score)\n",
    "\n",
    "print(\"\\n\\n Average AUC-ROC Score across all labels : {}\".format(round(np.mean(all_scores), 2)))"
   ]
  },
  {
   "cell_type": "markdown",
   "metadata": {},
   "source": [
    "## Conclusion"
   ]
  },
  {
   "cell_type": "markdown",
   "metadata": {},
   "source": [
    "In this module we mainly taked about the following items - \n",
    "1. Some of the techniques to represent textual documents as numeric vectors.\n",
    "2. Using Naive Bayes to get class probabilities for a text.\n",
    "3. Evaluating the multiheaded classification model using AUC-ROC.\n",
    "\n",
    "Further areas of exploration can be - \n",
    "1. Considering n-grams while creating the TF-IDF or BOW representation. \n",
    "2. Other techniques to represent a textual document numerically, like word2vec or embedding based techniques (eg - BERT).\n",
    "3. Other models for textual classification - Deep Neural Network based models (like LSTMs) etc.\n",
    "4. Parameter finetuning for the model used.\n",
    "5. Other techniques to evaluate the model performance - F1 score, AUC PR, etc."
   ]
  },
  {
   "cell_type": "code",
   "execution_count": null,
   "metadata": {},
   "outputs": [],
   "source": []
  }
 ],
 "metadata": {
  "kernelspec": {
   "display_name": "Python [conda env:rl]",
   "language": "python",
   "name": "conda-env-rl-py"
  },
  "language_info": {
   "codemirror_mode": {
    "name": "ipython",
    "version": 3
   },
   "file_extension": ".py",
   "mimetype": "text/x-python",
   "name": "python",
   "nbconvert_exporter": "python",
   "pygments_lexer": "ipython3",
   "version": "3.7.7"
  }
 },
 "nbformat": 4,
 "nbformat_minor": 4
}
